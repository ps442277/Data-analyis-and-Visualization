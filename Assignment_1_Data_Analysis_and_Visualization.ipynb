{
  "nbformat": 4,
  "nbformat_minor": 0,
  "metadata": {
    "colab": {
      "provenance": []
    },
    "kernelspec": {
      "name": "python3",
      "display_name": "Python 3"
    },
    "language_info": {
      "name": "python"
    }
  },
  "cells": [
    {
      "cell_type": "code",
      "metadata": {
        "id": "OBF0Quv3mbGO"
      },
      "source": [
        "# Price Data\n",
        "\n",
        "item_dict = {'almonds': 6,\n",
        " 'antioxidant juice': 9,\n",
        " 'avocado': 1,\n",
        " 'black tea': 4,\n",
        " 'burgers': 4,\n",
        " 'champagne': 3,\n",
        " 'chicken': 4,\n",
        " 'chocolate': 7,\n",
        " 'chutney': 7,\n",
        " 'cookies': 7,\n",
        " 'cooking oil': 7,\n",
        " 'cottage cheese': 9,\n",
        " 'eggs': 9,\n",
        " 'energy bar': 9,\n",
        " 'energy drink': 3,\n",
        " 'extra dark chocolate': 8,\n",
        " 'french fries': 7,\n",
        " 'fresh tuna': 9,\n",
        " 'frozen smoothie': 7,\n",
        " 'frozen vegetables': 2,\n",
        " 'green grapes': 8,\n",
        " 'green tea': 8,\n",
        " 'honey': 9,\n",
        " 'light cream': 5,\n",
        " 'low fat yogurt': 4,\n",
        " 'meatballs': 9,\n",
        " 'milk': 5,\n",
        " 'mineral water': 2,\n",
        " 'oil': 9,\n",
        " 'olive oil': 8,\n",
        " 'pet food': 3,\n",
        " 'protein bar': 1,\n",
        " 'salad': 7,\n",
        " 'salmon': 3,\n",
        " 'shallot': 6,\n",
        " 'shrimp': 2,\n",
        " 'soup': 2,\n",
        " 'spaghetti': 6,\n",
        " 'spinach': 7,\n",
        " 'tomato juice': 8,\n",
        " 'tomatoes': 5,\n",
        " 'turkey': 8,\n",
        " 'vegetables mix': 3,\n",
        " 'whole wheat flour': 5,\n",
        " 'whole wheat pasta': 5,\n",
        " 'whole wheat rice': 4,\n",
        " 'yams': 7}"
      ],
      "execution_count": null,
      "outputs": []
    },
    {
      "cell_type": "code",
      "metadata": {
        "id": "_uutgZt4mcgz"
      },
      "source": [
        "# transaction data\n",
        "\n",
        "transaction_data = \\\n",
        "[['shrimp', 'almonds', 'avocado', 'vegetables mix', 'green grapes', 'whole wheat flour', 'yams', 'cottage cheese', 'energy drink', 'tomato juice', 'low fat yogurt', 'green tea', 'honey', 'salad', 'mineral water', 'salmon', 'antioxidant juice', 'frozen smoothie', 'spinach', 'olive oil'],\n",
        "['burgers', 'meatballs', 'eggs'],\n",
        "['chutney'],\n",
        "['turkey', 'avocado'],\n",
        "['mineral water', 'milk', 'energy bar', 'whole wheat rice', 'green tea'],\n",
        "['low fat yogurt'],\n",
        "['whole wheat pasta', 'french fries'],\n",
        "['soup', 'light cream', 'shallot'],\n",
        "['frozen vegetables', 'spaghetti', 'green tea'],\n",
        "['french fries'],\n",
        "['eggs', 'pet food'],\n",
        "['cookies'],\n",
        "['turkey', 'burgers', 'mineral water', 'eggs', 'cooking oil'],\n",
        "['spaghetti', 'champagne', 'cookies'],\n",
        "['mineral water', 'salmon'],\n",
        "['mineral water'],\n",
        "['shrimp', 'chocolate', 'chicken', 'honey', 'oil', 'cooking oil', 'low fat yogurt'],\n",
        "['turkey', 'eggs'],\n",
        "['turkey', 'fresh tuna', 'tomatoes', 'spaghetti', 'mineral water', 'black tea', 'salmon', 'eggs', 'chicken', 'extra dark chocolate'],\n",
        "['meatballs', 'milk', 'honey', 'french fries', 'protein bar']]"
      ],
      "execution_count": null,
      "outputs": []
    },
    {
      "cell_type": "markdown",
      "source": [
        "##Q1.Based on customer demand, items keep changing in the store. Your first task is to create a function that lets the admin add or remove items from the store directory(Cost dictionary)"
      ],
      "metadata": {
        "id": "pYS9vnYrqK7-"
      }
    },
    {
      "cell_type": "markdown",
      "source": [
        "### 1. Find how many unique items are present in the data?  (Hint: It will correspond to the number of key pairs in the Cost dictionary)"
      ],
      "metadata": {
        "id": "NVsupnW0qObT"
      }
    },
    {
      "cell_type": "code",
      "source": [
        "def unique_item_count():\n",
        "  #Since all the Keys are unique in nature, simply printing the len of item from dictionary\n",
        "  print(\"Unique items from the product dictionary = \\033[1m{}\\033[0m\".format(len(item_dict.keys())))"
      ],
      "metadata": {
        "id": "gJhMmuCAaKVK"
      },
      "execution_count": null,
      "outputs": []
    },
    {
      "cell_type": "code",
      "source": [
        "unique_item_count()"
      ],
      "metadata": {
        "colab": {
          "base_uri": "https://localhost:8080/"
        },
        "id": "L3zoBDdelpyw",
        "outputId": "ee53b535-2932-4d0f-eb75-47cb503fd6ae"
      },
      "execution_count": null,
      "outputs": [
        {
          "output_type": "stream",
          "name": "stdout",
          "text": [
            "Unique items from the product dictionary = \u001b[1m47\u001b[0m\n"
          ]
        }
      ]
    },
    {
      "cell_type": "markdown",
      "source": [
        "### 2. Find the total number of transactions?"
      ],
      "metadata": {
        "id": "qTqScZcVqReB"
      }
    },
    {
      "cell_type": "code",
      "source": [
        "def total_transactions(trans_data):\n",
        "  #Using length function to find the total number of transaction from transaction data\n",
        "  return len(trans_data)"
      ],
      "metadata": {
        "id": "IPvFIqZDl1nI"
      },
      "execution_count": null,
      "outputs": []
    },
    {
      "cell_type": "code",
      "source": [
        "print(\"Total no of transactions are = \\033[1m{}\\033[0m\".format(total_transactions(transaction_data)))"
      ],
      "metadata": {
        "colab": {
          "base_uri": "https://localhost:8080/"
        },
        "id": "eoH7St_Fpyus",
        "outputId": "4f071f94-fa08-4154-a8c6-1e1946ce8ffd"
      },
      "execution_count": null,
      "outputs": [
        {
          "output_type": "stream",
          "name": "stdout",
          "text": [
            "Total no of transactions are = \u001b[1m20\u001b[0m\n"
          ]
        }
      ]
    },
    {
      "cell_type": "markdown",
      "source": [
        "### 3. Add items, try adding the item “banana” in stores. The cost of this item is $5. Add the item “banana” to the Cost dictionary. \n",
        "#### Use a function named add_item( ) to automatically add an item to the Cost dictionary given its name and price."
      ],
      "metadata": {
        "id": "f2auZvr-qVit"
      }
    },
    {
      "cell_type": "code",
      "metadata": {
        "id": "lTmOHxeVmjt0"
      },
      "source": [
        "def add_item(name,price):\n",
        "  #Given name and price, dictionary will add an item just by giving dict[name] = price\n",
        "  item_dict[name] = price\n",
        "  print(\"Item \\033[1m{}\\033[0m is newly added into the list with price of '\\033[1m{}\\033[0m'\".format(name,price))"
      ],
      "execution_count": null,
      "outputs": []
    },
    {
      "cell_type": "code",
      "source": [
        "add_item(\"banana\",5)"
      ],
      "metadata": {
        "colab": {
          "base_uri": "https://localhost:8080/"
        },
        "id": "KdWsstC6Yl5F",
        "outputId": "d07abc68-37a2-4cf8-8e52-574d8894b3fe"
      },
      "execution_count": null,
      "outputs": [
        {
          "output_type": "stream",
          "name": "stdout",
          "text": [
            "Item \u001b[1mbanana\u001b[0m is newly added into the list with price of '\u001b[1m5\u001b[0m'\n"
          ]
        }
      ]
    },
    {
      "cell_type": "markdown",
      "source": [
        "### 5. Remove an item: for example: if the customers at Walmart do not seem to be purchasing “banana,” and the store decides to discontinue this item. The function to should be able to remove the item “banana” from the Cost dictionary\n",
        "#### Create a function called remove_item( ) to automatically remove an item from the Cost dictionary given its name."
      ],
      "metadata": {
        "id": "eGnvxyV-qcVb"
      }
    },
    {
      "cell_type": "code",
      "source": [
        "def remove_item(name):\n",
        "  #Pop function is used to remove the item from the dictionary using its key\n",
        "  item_dict.pop(name)\n",
        "  print(\"Item '\\033[1m{}\\033[0m' is deleted from the list\".format(name))"
      ],
      "metadata": {
        "id": "IYqXO0N8YwY0"
      },
      "execution_count": null,
      "outputs": []
    },
    {
      "cell_type": "code",
      "source": [
        "remove_item(\"banana\")"
      ],
      "metadata": {
        "colab": {
          "base_uri": "https://localhost:8080/"
        },
        "id": "yaeiNGL5ZNmQ",
        "outputId": "98dacf68-2cd7-48d6-8763-604e6939b743"
      },
      "execution_count": null,
      "outputs": [
        {
          "output_type": "stream",
          "name": "stdout",
          "text": [
            "Item '\u001b[1mbanana\u001b[0m' is deleted from the list\n"
          ]
        }
      ]
    },
    {
      "cell_type": "markdown",
      "source": [
        "## Q2. Once a customer has completed shopping, they need to be billed for the total amount of all the items. This can be done automatically by swiping each item’s barcode on a checkout system. Your second task is to build the software underlying the checkout system, which finds the total cost of all the items in a customer’s cart, including taxes:"
      ],
      "metadata": {
        "id": "z7Sj6wP4qm9S"
      }
    },
    {
      "cell_type": "markdown",
      "source": [
        "### Write the code, to find the price of an item from the cost dictionary\n",
        "\n",
        "##### Find the price of salmon from the cost dictionary"
      ],
      "metadata": {
        "id": "qJzYGeR0dOVA"
      }
    },
    {
      "cell_type": "code",
      "source": [
        "def price_of_item(name):\n",
        "  if name not in item_dict.keys():\n",
        "    print(\"Item \\033[1m{}\\033[0m is not present in the inventory data\".format(name))\n",
        "  else:\n",
        "  #Find the price of individual item using dict[name] and its name\n",
        "    print(\"The cost for item \\033[1m{}\\033[0m is \\033[1m{}\\033[0m\".format(name,item_dict[name]))\n",
        "price_of_item(\"spaghetti\")"
      ],
      "metadata": {
        "colab": {
          "base_uri": "https://localhost:8080/"
        },
        "id": "wowa8VaGZO1s",
        "outputId": "ffe6d2fa-11be-490b-a2d1-339ee60da254"
      },
      "execution_count": null,
      "outputs": [
        {
          "output_type": "stream",
          "name": "stdout",
          "text": [
            "The cost for item \u001b[1mspaghetti\u001b[0m is \u001b[1m6\u001b[0m\n"
          ]
        }
      ]
    },
    {
      "cell_type": "markdown",
      "source": [
        "### Write a code that helps the administrator find any particular transaction in the sequence\n",
        "\n",
        "##### Try finding the ninth transaction from the data\n",
        "##### How many items are present in the ninth transaction?\n",
        "##### Find the total cost of the ninth transaction from the array of transactions. Example: Input: [‘avocado’, ‘chutney’, ‘cookies’], Output: 15"
      ],
      "metadata": {
        "id": "AHs0IU7IfWI3"
      }
    },
    {
      "cell_type": "code",
      "source": [
        "def per_transaction(n_trans): #n_trans represents the nth transaction count\n",
        "  total_cost = 0\n",
        "  if(n_trans < len(transaction_data)):\n",
        "    n_trans = n_trans -1\n",
        "    #Using list[n] will give the list of items from the 2D list\n",
        "    print(\"List of items for the given transaction is \\033[1m{}\\033[0m\".format(transaction_data[n_trans]))\n",
        "    #Using len(list[n]) will give the total number of items from the 2D list\n",
        "    print(\"Total number of item(s) is/are \\033[1m{}\\033[0m for given transaction\".format(len(transaction_data[n_trans])))\n",
        "    for i in transaction_data[n_trans]:\n",
        "      if i in item_dict.keys():\n",
        "        total_cost += item_dict[i]\n",
        "    #Using total_cost will sum the item from the given transaction list\n",
        "    print(\"Total cost before tax deduction amount = \\033[1m{}\\033[0m\".format(total_cost))\n",
        "  else:\n",
        "    print(\"Transaction data is not present for given transaction sequence number\")\n",
        "  #passing these below values to final_total function is make it reusable\n",
        "  per_transaction.total_cost = total_cost\n",
        "  per_transaction.n_trans = n_trans  "
      ],
      "metadata": {
        "id": "_3Snb938efMc"
      },
      "execution_count": null,
      "outputs": []
    },
    {
      "cell_type": "code",
      "source": [
        "def final_total():\n",
        "  #Total cost is taken from the per_transation() which is already calculated\n",
        "  total_cost = per_transaction.total_cost\n",
        "  #Gov tax has been calculated using 5% from the Total_cost\n",
        "  gov_tax = total_cost*0.05\n",
        "  print(\"Government tax for total number of billed items = \\033[1m{}\\033[0m\".format(round(gov_tax,2)))\n",
        "  print(\"Final bill after including gov tax = = \\033[1m{}\\033[0m\".format(total_cost+gov_tax))"
      ],
      "metadata": {
        "id": "O2rzvgS9qXon"
      },
      "execution_count": null,
      "outputs": []
    },
    {
      "cell_type": "code",
      "source": [
        "n_trans = int(input('Enter the nth transaction: '))\n",
        "if n_trans > len(transaction_data):\n",
        "  print(\"Transaction count out of bound exception\")\n",
        "else:\n",
        "  per_transaction(n_trans)\n",
        "  final_total()"
      ],
      "metadata": {
        "colab": {
          "base_uri": "https://localhost:8080/"
        },
        "id": "xzr0DqjQkK5V",
        "outputId": "3945bc1b-0a35-4b7a-a46a-3f1ba285aa2e"
      },
      "execution_count": null,
      "outputs": [
        {
          "output_type": "stream",
          "name": "stdout",
          "text": [
            "Enter the nth transaction: 3\n",
            "List of items for the given transaction is \u001b[1m['chutney']\u001b[0m\n",
            "Total number of item(s) is/are \u001b[1m1\u001b[0m for given transaction\n",
            "Total cost before tax deduction amount = \u001b[1m7\u001b[0m\n",
            "Government tax for total number of billed items = \u001b[1m0.35\u001b[0m\n",
            "Final bill after including gov tax = = \u001b[1m7.35\u001b[0m\n"
          ]
        }
      ]
    },
    {
      "cell_type": "markdown",
      "source": [
        "## Q3. There is always a flow of items in and out of stores, which need to be tracked so that the store can place an order in case an item is running out of stock. Your third task is to build an inventory management system that will count the total number of items purchased from the transaction data. This inventory management system will go through each of the transactions one by one and increment the value for an item if it is found in a transaction."
      ],
      "metadata": {
        "id": "w0dyAt-7rjsd"
      }
    },
    {
      "cell_type": "markdown",
      "source": [
        "### What is the data structure that can be used to count the frequency of items purchased (from the transaction data)?\n",
        "\n",
        "Create a frequency counter to count the number of items:"
      ],
      "metadata": {
        "id": "Hdof8MsQs0aW"
      }
    },
    {
      "cell_type": "code",
      "source": [
        "def frequency_counter(transaction_data):\n",
        "  frequency_dict ={}\n",
        "  #Creating empty dictionary and adding the occurance item by just using dict[name] +=1 from the transaction data\n",
        "  for rows in transaction_data:\n",
        "    for rec in rows:\n",
        "      if rec in frequency_dict.keys():\n",
        "        frequency_dict[rec]+=1\n",
        "      else:\n",
        "        frequency_dict[rec] = 1\n",
        "  return frequency_dict"
      ],
      "metadata": {
        "id": "kUjgtD7usb_u"
      },
      "execution_count": null,
      "outputs": []
    },
    {
      "cell_type": "code",
      "source": [
        "frequency_counter(transaction_data)"
      ],
      "metadata": {
        "colab": {
          "base_uri": "https://localhost:8080/"
        },
        "id": "x1B1JjgHtEjg",
        "outputId": "0f54075c-b859-476a-fa42-543c4029fd23"
      },
      "execution_count": null,
      "outputs": [
        {
          "output_type": "execute_result",
          "data": {
            "text/plain": [
              "{'shrimp': 2,\n",
              " 'almonds': 1,\n",
              " 'avocado': 2,\n",
              " 'vegetables mix': 1,\n",
              " 'green grapes': 1,\n",
              " 'whole wheat flour': 1,\n",
              " 'yams': 1,\n",
              " 'cottage cheese': 1,\n",
              " 'energy drink': 1,\n",
              " 'tomato juice': 1,\n",
              " 'low fat yogurt': 3,\n",
              " 'green tea': 3,\n",
              " 'honey': 3,\n",
              " 'salad': 1,\n",
              " 'mineral water': 6,\n",
              " 'salmon': 3,\n",
              " 'antioxidant juice': 1,\n",
              " 'frozen smoothie': 1,\n",
              " 'spinach': 1,\n",
              " 'olive oil': 1,\n",
              " 'burgers': 2,\n",
              " 'meatballs': 2,\n",
              " 'eggs': 5,\n",
              " 'chutney': 1,\n",
              " 'turkey': 4,\n",
              " 'milk': 2,\n",
              " 'energy bar': 1,\n",
              " 'whole wheat rice': 1,\n",
              " 'whole wheat pasta': 1,\n",
              " 'french fries': 3,\n",
              " 'soup': 1,\n",
              " 'light cream': 1,\n",
              " 'shallot': 1,\n",
              " 'frozen vegetables': 1,\n",
              " 'spaghetti': 3,\n",
              " 'pet food': 1,\n",
              " 'cookies': 2,\n",
              " 'cooking oil': 2,\n",
              " 'champagne': 1,\n",
              " 'chocolate': 1,\n",
              " 'chicken': 2,\n",
              " 'oil': 1,\n",
              " 'fresh tuna': 1,\n",
              " 'tomatoes': 1,\n",
              " 'black tea': 1,\n",
              " 'extra dark chocolate': 1,\n",
              " 'protein bar': 1}"
            ]
          },
          "metadata": {},
          "execution_count": 484
        }
      ]
    },
    {
      "cell_type": "code",
      "source": [
        "def update_counter():\n",
        "  str_list = []\n",
        "  #Getting input from user of how many items needed to add as a new transaction, if the user given data is 5, then 5 items need to be added\n",
        "  item_count = int(input(\"Enter item count: \"))\n",
        "  try:\n",
        "    if(item_count >= 0):\n",
        "      for i in range(item_count):\n",
        "        str_list.append(input('Enter item {} '.format(i+1)))\n",
        "    #Appending the items into transaction_data\n",
        "    transaction_data.append(str_list)\n",
        "    print(\"Newly added transaction list: \\033[1m{}\\033[0m\".format(str_list))\n",
        "  #Throw exception if the item_count less than 0\n",
        "  except Exception as e: print(e)\n",
        "  return frequency_counter(transaction_data)"
      ],
      "metadata": {
        "id": "EDDmYjgd-IB4"
      },
      "execution_count": null,
      "outputs": []
    },
    {
      "cell_type": "code",
      "source": [
        "update_counter()"
      ],
      "metadata": {
        "colab": {
          "base_uri": "https://localhost:8080/"
        },
        "id": "QT43_Bj9kJIV",
        "outputId": "133173f4-8b6a-4db8-82d8-7a5bd4c09393"
      },
      "execution_count": null,
      "outputs": [
        {
          "output_type": "stream",
          "name": "stdout",
          "text": [
            "Enter item count: 3\n",
            "Enter item 1 eggs\n",
            "Enter item 2 meatballs\n",
            "Enter item 3 shrimp\n",
            "Newly added transaction list: \u001b[1m['eggs', 'meatballs', 'shrimp']\u001b[0m\n"
          ]
        },
        {
          "output_type": "execute_result",
          "data": {
            "text/plain": [
              "{'shrimp': 3,\n",
              " 'almonds': 1,\n",
              " 'avocado': 2,\n",
              " 'vegetables mix': 1,\n",
              " 'green grapes': 1,\n",
              " 'whole wheat flour': 1,\n",
              " 'yams': 1,\n",
              " 'cottage cheese': 1,\n",
              " 'energy drink': 1,\n",
              " 'tomato juice': 1,\n",
              " 'low fat yogurt': 3,\n",
              " 'green tea': 3,\n",
              " 'honey': 3,\n",
              " 'salad': 1,\n",
              " 'mineral water': 6,\n",
              " 'salmon': 3,\n",
              " 'antioxidant juice': 1,\n",
              " 'frozen smoothie': 1,\n",
              " 'spinach': 1,\n",
              " 'olive oil': 1,\n",
              " 'burgers': 2,\n",
              " 'meatballs': 3,\n",
              " 'eggs': 6,\n",
              " 'chutney': 1,\n",
              " 'turkey': 4,\n",
              " 'milk': 2,\n",
              " 'energy bar': 1,\n",
              " 'whole wheat rice': 1,\n",
              " 'whole wheat pasta': 1,\n",
              " 'french fries': 3,\n",
              " 'soup': 1,\n",
              " 'light cream': 1,\n",
              " 'shallot': 1,\n",
              " 'frozen vegetables': 1,\n",
              " 'spaghetti': 3,\n",
              " 'pet food': 1,\n",
              " 'cookies': 2,\n",
              " 'cooking oil': 2,\n",
              " 'champagne': 1,\n",
              " 'chocolate': 1,\n",
              " 'chicken': 2,\n",
              " 'oil': 1,\n",
              " 'fresh tuna': 1,\n",
              " 'tomatoes': 1,\n",
              " 'black tea': 1,\n",
              " 'extra dark chocolate': 1,\n",
              " 'protein bar': 1}"
            ]
          },
          "metadata": {},
          "execution_count": 486
        }
      ]
    },
    {
      "cell_type": "markdown",
      "source": [
        "## Q4. Walmart is running a discount week for Christmas! The sales manager has decided to keep a 20% discount on the top three selling items. Use the frequency counter that you created in Question 3 to solve this problem:"
      ],
      "metadata": {
        "id": "3_IODOOdnKJw"
      }
    },
    {
      "cell_type": "markdown",
      "source": [
        "What is the top-selling item?"
      ],
      "metadata": {
        "id": "9FU-DoMYnNc3"
      }
    },
    {
      "cell_type": "code",
      "source": [
        "def top_selling_item(transaction_data):\n",
        "  top_item ={}\n",
        "  for rows in transaction_data:\n",
        "    for rec in rows:\n",
        "      if rec in top_item.keys():\n",
        "        top_item[rec]+=1\n",
        "      else:\n",
        "        top_item[rec] = 1\n",
        "  #Use sorted to get the dictionary in desc order and get the Top item[0] and print\n",
        "  sorted_dict = sorted(top_item, key=top_item.get, reverse=True)\n",
        "  print(\"Top selling item from the transaction data = \\033[1m{}\\033[0m which has \\033[1m{}\\033[0m transactions\".format(sorted_dict[0],top_item[sorted_dict[0]]))"
      ],
      "metadata": {
        "id": "SCeGEZjklaGY"
      },
      "execution_count": null,
      "outputs": []
    },
    {
      "cell_type": "code",
      "source": [
        "top_selling_item(transaction_data)"
      ],
      "metadata": {
        "colab": {
          "base_uri": "https://localhost:8080/"
        },
        "id": "30kEbFNhSybR",
        "outputId": "f4c65ee6-1895-4dd4-d9ae-f04b125ddae1"
      },
      "execution_count": null,
      "outputs": [
        {
          "output_type": "stream",
          "name": "stdout",
          "text": [
            "Top selling item from the transaction data = \u001b[1mmineral water\u001b[0m which has \u001b[1m6\u001b[0m transactions\n"
          ]
        }
      ]
    },
    {
      "cell_type": "markdown",
      "source": [
        "In real life, departmental stores have thousands of items and millions of transactions in their databases. In such situations, it becomes important to use an effective searching algorithm to navigate through the data. You need to sort the frequency counter dictionary by the value count(or the number of items). For example, if there are 3 apples, 5 bananas and 1 watermelon, the sorted list would be banana, apple, watermelon. So you need to sort the entire dictionary (with keys and values) based on the value count. Sort the frequency counter using the sorting algorithms provided in the table below. Additionally, for each of the sorting methods, leverage the time function in Python to see how many milliseconds it takes for an algorithm to sort items.\n",
        "\n",
        "Algorithm\tTime\n",
        "Merge \t \n",
        "Insertion\t \n",
        "Selection\t \n"
      ],
      "metadata": {
        "id": "gcKSK_BspWRA"
      }
    },
    {
      "cell_type": "code",
      "source": [
        "import time\n",
        "import dis\n",
        "capture_time_algo = {}"
      ],
      "metadata": {
        "id": "Vg3kiKD1Mpzi"
      },
      "execution_count": null,
      "outputs": []
    },
    {
      "cell_type": "code",
      "source": [
        "#Insertion sort builds the sorted list one element at a time by comparing each item with the rest of the list and inserting it into its correct position\n",
        "def insertion_sort(frq_count):\n",
        "  item_list=list(frq_count.items())\n",
        "  l = len(item_list)\n",
        "  for i in range(l):  \n",
        "    for j in range (0,i):\n",
        "      if (item_list[i][1]>item_list[j][1]):  \n",
        "        temp=item_list[i]\n",
        "        item_list[i]=item_list[j]\n",
        "        item_list[j]=temp  \n",
        "  sortdict=dict(item_list)\n",
        "  return(sortdict.keys())"
      ],
      "metadata": {
        "id": "DReHxIdHqgEG"
      },
      "execution_count": null,
      "outputs": []
    },
    {
      "cell_type": "code",
      "source": [
        "start = time.time()\n",
        "print(insertion_sort(frequency_counter(transaction_data)))\n",
        "end = time.time()\n",
        "#Calculating the start and end time and capturing in dictionary using algo_name:time\n",
        "capture_time_algo[insertion_sort.__name__] = (end - start)"
      ],
      "metadata": {
        "colab": {
          "base_uri": "https://localhost:8080/"
        },
        "id": "wtrn7RP3MEv_",
        "outputId": "b12c4250-ed42-40e2-a604-918810851133"
      },
      "execution_count": null,
      "outputs": [
        {
          "output_type": "stream",
          "name": "stdout",
          "text": [
            "dict_keys(['mineral water', 'eggs', 'turkey', 'honey', 'shrimp', 'salmon', 'meatballs', 'low fat yogurt', 'green tea', 'french fries', 'spaghetti', 'milk', 'burgers', 'avocado', 'cookies', 'cooking oil', 'chicken', 'frozen smoothie', 'spinach', 'olive oil', 'cottage cheese', 'energy drink', 'tomato juice', 'chutney', 'almonds', 'vegetables mix', 'energy bar', 'whole wheat rice', 'whole wheat pasta', 'green grapes', 'soup', 'light cream', 'shallot', 'frozen vegetables', 'salad', 'pet food', 'whole wheat flour', 'yams', 'champagne', 'chocolate', 'antioxidant juice', 'oil', 'fresh tuna', 'tomatoes', 'black tea', 'extra dark chocolate', 'protein bar'])\n"
          ]
        }
      ]
    },
    {
      "cell_type": "code",
      "source": [
        "#The basic idea of Selection sort is to repeatedly select the smallest key in the remaining unsorted list\n",
        "def selection_sort(freq_count):\n",
        "  item_list=list(freq_count.items())\n",
        "  l = len(item_list)\n",
        "  for i in range(l):  \n",
        "    for j in range (i+1,l):  \n",
        "      if (item_list[i][1]<item_list[j][1]):  \n",
        "        temp=item_list[i]  \n",
        "        item_list[i]=item_list[j]\n",
        "        item_list[j]=temp\n",
        "  sortdict=dict(item_list)\n",
        "  return(sortdict.keys())"
      ],
      "metadata": {
        "id": "F9IMchPnrV1l"
      },
      "execution_count": null,
      "outputs": []
    },
    {
      "cell_type": "code",
      "source": [
        "start = time.time()\n",
        "print(selection_sort(frequency_counter(transaction_data)))\n",
        "end = time.time()\n",
        "#Calculating the start and end time and capturing in dictionary using algo_name:time\n",
        "capture_time_algo[selection_sort.__name__] = (end - start)"
      ],
      "metadata": {
        "colab": {
          "base_uri": "https://localhost:8080/"
        },
        "id": "km8jnSvYK-MT",
        "outputId": "fe86f95a-9dcc-4ec3-efd6-f68ed91809a8"
      },
      "execution_count": null,
      "outputs": [
        {
          "output_type": "stream",
          "name": "stdout",
          "text": [
            "dict_keys(['mineral water', 'eggs', 'turkey', 'honey', 'shrimp', 'salmon', 'meatballs', 'low fat yogurt', 'green tea', 'french fries', 'spaghetti', 'milk', 'burgers', 'avocado', 'cookies', 'cooking oil', 'chicken', 'frozen smoothie', 'spinach', 'olive oil', 'cottage cheese', 'energy drink', 'tomato juice', 'chutney', 'almonds', 'vegetables mix', 'energy bar', 'whole wheat rice', 'whole wheat pasta', 'green grapes', 'soup', 'light cream', 'shallot', 'frozen vegetables', 'salad', 'pet food', 'whole wheat flour', 'yams', 'champagne', 'chocolate', 'antioxidant juice', 'oil', 'fresh tuna', 'tomatoes', 'black tea', 'extra dark chocolate', 'protein bar'])\n"
          ]
        }
      ]
    },
    {
      "cell_type": "code",
      "source": [
        "#merge_sort is based on the divide-and-conquer approach, a powerful algorithmic technique used to solve complex problems\n",
        "def merge_sort(item_list):\n",
        "  l = len(item_list)\n",
        "  if l > 1:\n",
        "    mid = l // 2\n",
        "    left = item_list[:mid]\n",
        "    right = item_list[mid:]\n",
        "    merge_sort(left)\n",
        "    merge_sort(right)\n",
        "    i = 0\n",
        "    j = 0\n",
        "    k = 0\n",
        "    while(i < len(left) and j < len(right)):\n",
        "      if(left[i][1]>right[j][1]):\n",
        "        item_list[k] = left[i]\n",
        "        i += 1\n",
        "      else:\n",
        "        item_list[k] = right[j]\n",
        "        j += 1\n",
        "      k += 1\n",
        "    while i < len(left):\n",
        "      item_list[k] = left[i]\n",
        "      i += 1\n",
        "      k += 1\n",
        "    while j < len(right):\n",
        "      item_list[k]=right[j]\n",
        "      j += 1\n",
        "      k += 1\n",
        "  sortdict=dict(item_list)\n",
        "  return(sortdict.keys())"
      ],
      "metadata": {
        "id": "eE6AEtYArW6S"
      },
      "execution_count": null,
      "outputs": []
    },
    {
      "cell_type": "code",
      "source": [
        "start = time.time()\n",
        "dic_frq_count = frequency_counter(transaction_data)\n",
        "item_list=list(dic_frq_count.items())\n",
        "print(merge_sort(item_list))\n",
        "end = time.time()\n",
        "#Calculating the start and end time and capturing in dictionary using algo_name:time\n",
        "capture_time_algo[merge_sort.__name__] = (end - start)"
      ],
      "metadata": {
        "colab": {
          "base_uri": "https://localhost:8080/"
        },
        "id": "H3FNVz1yItyD",
        "outputId": "7be6278a-8dcc-4dfe-8285-a309f5a2ff53"
      },
      "execution_count": null,
      "outputs": [
        {
          "output_type": "stream",
          "name": "stdout",
          "text": [
            "dict_keys(['eggs', 'mineral water', 'turkey', 'spaghetti', 'french fries', 'meatballs', 'salmon', 'honey', 'green tea', 'low fat yogurt', 'shrimp', 'chicken', 'cooking oil', 'cookies', 'milk', 'burgers', 'avocado', 'protein bar', 'extra dark chocolate', 'black tea', 'tomatoes', 'fresh tuna', 'oil', 'chocolate', 'champagne', 'pet food', 'frozen vegetables', 'shallot', 'light cream', 'soup', 'whole wheat pasta', 'whole wheat rice', 'energy bar', 'chutney', 'olive oil', 'spinach', 'frozen smoothie', 'antioxidant juice', 'salad', 'tomato juice', 'energy drink', 'cottage cheese', 'yams', 'whole wheat flour', 'green grapes', 'vegetables mix', 'almonds'])\n"
          ]
        }
      ]
    },
    {
      "cell_type": "code",
      "source": [
        "#Printing the dictionary in below table as Algorithm and its time taken\n",
        "def time_taken_algos(capture_time_algo):\n",
        "  print(\"\\033[1m{:<30}\\033[0m \\033[1m{:<10}\\033[0m\".format('Algorithm', 'Time'))\n",
        "  for algo_name in capture_time_algo:\n",
        "    print(\"{:<30} {:<10} \".format(algo_name, capture_time_algo[algo_name]))"
      ],
      "metadata": {
        "id": "WxihiPFeOyGx"
      },
      "execution_count": null,
      "outputs": []
    },
    {
      "cell_type": "code",
      "source": [
        "time_taken_algos(capture_time_algo)"
      ],
      "metadata": {
        "colab": {
          "base_uri": "https://localhost:8080/"
        },
        "id": "gQiRlfSOO3Py",
        "outputId": "cf363ce5-c323-4992-e5d1-1376cd787f97"
      },
      "execution_count": null,
      "outputs": [
        {
          "output_type": "stream",
          "name": "stdout",
          "text": [
            "\u001b[1mAlgorithm                     \u001b[0m \u001b[1mTime      \u001b[0m\n",
            "insertion_sort                 0.003141641616821289 \n",
            "selection_sort                 0.0020351409912109375 \n",
            "merge_sort                     0.0027151107788085938 \n"
          ]
        }
      ]
    },
    {
      "cell_type": "markdown",
      "source": [
        "Rank the sorting algorithms in order of the time they take to sort items."
      ],
      "metadata": {
        "id": "psYA0UD9MWvK"
      }
    },
    {
      "cell_type": "code",
      "source": [
        "#Sorted and printing the dictionary in below table as Algorithm and its time taken\n",
        "def sorted_time_taken_algos(capture_time_algo):\n",
        "  print(\"\\033[1m{:<30}\\033[0m \\033[1m{:<10}\\033[0m\".format('Algorithm', 'Time'))\n",
        "  sorted_dict = sorted(capture_time_algo, key=capture_time_algo.get, reverse=True)\n",
        "  for algo_name in sorted_dict:\n",
        "    print(\"{:<30} {:<10} \".format(algo_name, capture_time_algo[algo_name]))"
      ],
      "metadata": {
        "id": "aihl7Dp3HDIQ"
      },
      "execution_count": null,
      "outputs": []
    },
    {
      "cell_type": "code",
      "source": [
        "sorted_time_taken_algos(capture_time_algo)"
      ],
      "metadata": {
        "colab": {
          "base_uri": "https://localhost:8080/"
        },
        "id": "gP6aizKBMjvC",
        "outputId": "076213ff-dafc-4556-9e6f-5d4c4688a920"
      },
      "execution_count": null,
      "outputs": [
        {
          "output_type": "stream",
          "name": "stdout",
          "text": [
            "\u001b[1mAlgorithm                     \u001b[0m \u001b[1mTime      \u001b[0m\n",
            "insertion_sort                 0.003141641616821289 \n",
            "merge_sort                     0.0027151107788085938 \n",
            "selection_sort                 0.0020351409912109375 \n"
          ]
        }
      ]
    }
  ]
}